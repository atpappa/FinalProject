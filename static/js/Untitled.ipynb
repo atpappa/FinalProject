{
 "cells": [
  {
   "cell_type": "code",
   "execution_count": 2,
   "metadata": {},
   "outputs": [
    {
     "ename": "SyntaxError",
     "evalue": "invalid syntax (<ipython-input-2-e69d38fce28d>, line 1)",
     "output_type": "error",
     "traceback": [
      "\u001b[1;36m  File \u001b[1;32m\"<ipython-input-2-e69d38fce28d>\"\u001b[1;36m, line \u001b[1;32m1\u001b[0m\n\u001b[1;33m    d3.csv(\"static/resources/combined_strategies.csv\").then(function (betData){\u001b[0m\n\u001b[1;37m                                                                              ^\u001b[0m\n\u001b[1;31mSyntaxError\u001b[0m\u001b[1;31m:\u001b[0m invalid syntax\n"
     ]
    }
   ],
   "source": [
    "\n",
    "            var trace1 = {\n",
    "                x: [d.IDB],\n",
    "                y: [d.ProfitB],\n",
    "                mode: 'lines+markers',\n",
    "                marker: {\n",
    "                    color: 'rgb(128, 0, 128)',\n",
    "                    size: 8\n",
    "                  },\n",
    "                  line: {\n",
    "                    color: 'rgb(128, 0, 128)',\n",
    "                    width: 1\n",
    "                  }\n",
    "                };\n",
    "          \n",
    "            var data1 = [trace1];\n",
    "\n",
    "            var layout1 = {\n",
    "                title: \"Betting It All Strategy\",\n",
    "                xaxis: { title: \"Bet\" },\n",
    "                yaxis: { title: \"Profit ($USD)\" }\n",
    "            };\n",
    "\n",
    "            Plotly.newPlot(\"plot\", data1, layout1);\n",
    "\n",
    "        }\n"
   ]
  },
  {
   "cell_type": "code",
   "execution_count": null,
   "metadata": {},
   "outputs": [],
   "source": []
  }
 ],
 "metadata": {
  "kernelspec": {
   "display_name": "PythonAdv",
   "language": "python",
   "name": "pythonadv"
  },
  "language_info": {
   "codemirror_mode": {
    "name": "ipython",
    "version": 3
   },
   "file_extension": ".py",
   "mimetype": "text/x-python",
   "name": "python",
   "nbconvert_exporter": "python",
   "pygments_lexer": "ipython3",
   "version": "3.6.10"
  }
 },
 "nbformat": 4,
 "nbformat_minor": 4
}
